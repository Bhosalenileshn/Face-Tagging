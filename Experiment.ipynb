{
 "cells": [
  {
   "cell_type": "code",
   "execution_count": 1,
   "metadata": {},
   "outputs": [],
   "source": [
    "import os\n",
    "from get_keypts import get_keypts\n",
    "import pandas as pd\n",
    "import numpy as np"
   ]
  },
  {
   "cell_type": "code",
   "execution_count": 2,
   "metadata": {},
   "outputs": [
    {
     "data": {
      "text/plain": [
       "['image1.jpg',\n",
       " 'image10.jpg',\n",
       " 'image2.jpg',\n",
       " 'image3.jpg',\n",
       " 'image4.jpg',\n",
       " 'image5.jpg',\n",
       " 'image6.jpg',\n",
       " 'image7.jpg',\n",
       " 'image8.jpg',\n",
       " 'image9.jpg']"
      ]
     },
     "execution_count": 2,
     "metadata": {},
     "output_type": "execute_result"
    }
   ],
   "source": [
    "images = os.listdir(\"images\"); images"
   ]
  },
  {
   "cell_type": "code",
   "execution_count": 3,
   "metadata": {},
   "outputs": [],
   "source": [
    "URL = \"http://localhost:5000\"\n",
    "\n",
    "images_to_keypoints = dict()\n",
    "\n",
    "for image in images:\n",
    "    url = os.path.join(\"images/\", image)\n",
    "    result = get_keypts(url)\n",
    "    if result is not None:\n",
    "        images_to_keypoints[image] = result"
   ]
  },
  {
   "cell_type": "code",
   "execution_count": 5,
   "metadata": {},
   "outputs": [
    {
     "data": {
      "text/html": [
       "<div>\n",
       "<style scoped>\n",
       "    .dataframe tbody tr th:only-of-type {\n",
       "        vertical-align: middle;\n",
       "    }\n",
       "\n",
       "    .dataframe tbody tr th {\n",
       "        vertical-align: top;\n",
       "    }\n",
       "\n",
       "    .dataframe thead th {\n",
       "        text-align: right;\n",
       "    }\n",
       "</style>\n",
       "<table border=\"1\" class=\"dataframe\">\n",
       "  <thead>\n",
       "    <tr style=\"text-align: right;\">\n",
       "      <th></th>\n",
       "    </tr>\n",
       "  </thead>\n",
       "  <tbody>\n",
       "    <tr>\n",
       "      <th>image1.jpg</th>\n",
       "      <td>-0.127379</td>\n",
       "      <td>0.046377</td>\n",
       "      <td>0.064907</td>\n",
       "      <td>0.036853</td>\n",
       "      <td>-0.030122</td>\n",
       "      <td>-0.035136</td>\n",
       "      <td>-0.024705</td>\n",
       "      <td>-0.204374</td>\n",
       "      <td>0.089141</td>\n",
       "      <td>-0.080783</td>\n",
       "      <td>...</td>\n",
       "      <td>0.113160</td>\n",
       "      <td>0.052697</td>\n",
       "      <td>-0.012722</td>\n",
       "      <td>0.032753</td>\n",
       "      <td>-0.118705</td>\n",
       "      <td>-0.111123</td>\n",
       "      <td>0.030561</td>\n",
       "      <td>-0.088339</td>\n",
       "      <td>0.201529</td>\n",
       "      <td>0.040185</td>\n",
       "    </tr>\n",
       "    <tr>\n",
       "      <th>image10.jpg</th>\n",
       "      <td>-0.163997</td>\n",
       "      <td>0.032625</td>\n",
       "      <td>0.132290</td>\n",
       "      <td>-0.138209</td>\n",
       "      <td>-0.069839</td>\n",
       "      <td>-0.088106</td>\n",
       "      <td>-0.052248</td>\n",
       "      <td>-0.176265</td>\n",
       "      <td>0.139457</td>\n",
       "      <td>-0.155102</td>\n",
       "      <td>...</td>\n",
       "      <td>0.048913</td>\n",
       "      <td>0.044040</td>\n",
       "      <td>0.067779</td>\n",
       "      <td>-0.062480</td>\n",
       "      <td>-0.095175</td>\n",
       "      <td>-0.077019</td>\n",
       "      <td>0.047777</td>\n",
       "      <td>-0.089953</td>\n",
       "      <td>0.064140</td>\n",
       "      <td>0.026908</td>\n",
       "    </tr>\n",
       "    <tr>\n",
       "      <th>image2.jpg</th>\n",
       "      <td>-0.185909</td>\n",
       "      <td>0.067868</td>\n",
       "      <td>0.039309</td>\n",
       "      <td>-0.082200</td>\n",
       "      <td>-0.086981</td>\n",
       "      <td>0.039979</td>\n",
       "      <td>-0.029991</td>\n",
       "      <td>-0.057583</td>\n",
       "      <td>0.140435</td>\n",
       "      <td>-0.143214</td>\n",
       "      <td>...</td>\n",
       "      <td>0.081886</td>\n",
       "      <td>-0.026868</td>\n",
       "      <td>0.062151</td>\n",
       "      <td>-0.064383</td>\n",
       "      <td>-0.144577</td>\n",
       "      <td>-0.184796</td>\n",
       "      <td>0.064035</td>\n",
       "      <td>-0.082566</td>\n",
       "      <td>0.167055</td>\n",
       "      <td>0.036307</td>\n",
       "    </tr>\n",
       "    <tr>\n",
       "      <th>image4.jpg</th>\n",
       "      <td>-0.155426</td>\n",
       "      <td>0.047399</td>\n",
       "      <td>0.005643</td>\n",
       "      <td>0.037812</td>\n",
       "      <td>-0.044404</td>\n",
       "      <td>-0.068241</td>\n",
       "      <td>-0.026556</td>\n",
       "      <td>-0.203503</td>\n",
       "      <td>0.097148</td>\n",
       "      <td>-0.035472</td>\n",
       "      <td>...</td>\n",
       "      <td>0.081202</td>\n",
       "      <td>0.079869</td>\n",
       "      <td>0.000999</td>\n",
       "      <td>0.040762</td>\n",
       "      <td>-0.129067</td>\n",
       "      <td>-0.083390</td>\n",
       "      <td>0.043762</td>\n",
       "      <td>-0.099999</td>\n",
       "      <td>0.168648</td>\n",
       "      <td>0.028903</td>\n",
       "    </tr>\n",
       "    <tr>\n",
       "      <th>image6.jpg</th>\n",
       "      <td>-0.005563</td>\n",
       "      <td>0.016488</td>\n",
       "      <td>0.036630</td>\n",
       "      <td>-0.125987</td>\n",
       "      <td>-0.078083</td>\n",
       "      <td>0.022831</td>\n",
       "      <td>-0.038736</td>\n",
       "      <td>-0.041771</td>\n",
       "      <td>0.222424</td>\n",
       "      <td>-0.035011</td>\n",
       "      <td>...</td>\n",
       "      <td>0.065053</td>\n",
       "      <td>0.047178</td>\n",
       "      <td>0.099247</td>\n",
       "      <td>0.113197</td>\n",
       "      <td>-0.149545</td>\n",
       "      <td>-0.132866</td>\n",
       "      <td>-0.005378</td>\n",
       "      <td>-0.004147</td>\n",
       "      <td>0.121249</td>\n",
       "      <td>0.068118</td>\n",
       "    </tr>\n",
       "    <tr>\n",
       "      <th>image8.jpg</th>\n",
       "      <td>-0.159116</td>\n",
       "      <td>0.025757</td>\n",
       "      <td>0.089369</td>\n",
       "      <td>-0.116362</td>\n",
       "      <td>-0.129103</td>\n",
       "      <td>-0.065410</td>\n",
       "      <td>-0.058841</td>\n",
       "      <td>-0.124685</td>\n",
       "      <td>0.174449</td>\n",
       "      <td>-0.191225</td>\n",
       "      <td>...</td>\n",
       "      <td>0.074093</td>\n",
       "      <td>0.030151</td>\n",
       "      <td>0.085750</td>\n",
       "      <td>-0.088163</td>\n",
       "      <td>-0.116954</td>\n",
       "      <td>-0.124739</td>\n",
       "      <td>0.039270</td>\n",
       "      <td>-0.035256</td>\n",
       "      <td>0.086318</td>\n",
       "      <td>0.072636</td>\n",
       "    </tr>\n",
       "    <tr>\n",
       "      <th>image9.jpg</th>\n",
       "      <td>-0.171698</td>\n",
       "      <td>0.011533</td>\n",
       "      <td>0.135368</td>\n",
       "      <td>-0.109777</td>\n",
       "      <td>-0.133800</td>\n",
       "      <td>-0.121698</td>\n",
       "      <td>-0.070415</td>\n",
       "      <td>-0.158112</td>\n",
       "      <td>0.190154</td>\n",
       "      <td>-0.205832</td>\n",
       "      <td>...</td>\n",
       "      <td>0.021665</td>\n",
       "      <td>0.075233</td>\n",
       "      <td>0.098040</td>\n",
       "      <td>-0.111953</td>\n",
       "      <td>-0.100308</td>\n",
       "      <td>-0.063221</td>\n",
       "      <td>0.038036</td>\n",
       "      <td>-0.031638</td>\n",
       "      <td>-0.000626</td>\n",
       "      <td>0.076412</td>\n",
       "    </tr>\n",
       "  </tbody>\n",
       "</table>\n",
       "<p>7 rows × 128 columns</p>\n",
       "</div>"
      ],
      "text/plain": [
       "                  0         1         2         3         4         5    \\\n",
       "image1.jpg  -0.127379  0.046377  0.064907  0.036853 -0.030122 -0.035136   \n",
       "image10.jpg -0.163997  0.032625  0.132290 -0.138209 -0.069839 -0.088106   \n",
       "image2.jpg  -0.185909  0.067868  0.039309 -0.082200 -0.086981  0.039979   \n",
       "image4.jpg  -0.155426  0.047399  0.005643  0.037812 -0.044404 -0.068241   \n",
       "image6.jpg  -0.005563  0.016488  0.036630 -0.125987 -0.078083  0.022831   \n",
       "image8.jpg  -0.159116  0.025757  0.089369 -0.116362 -0.129103 -0.065410   \n",
       "image9.jpg  -0.171698  0.011533  0.135368 -0.109777 -0.133800 -0.121698   \n",
       "\n",
       "                  6         7         8         9      ...          118  \\\n",
       "image1.jpg  -0.024705 -0.204374  0.089141 -0.080783    ...     0.113160   \n",
       "image10.jpg -0.052248 -0.176265  0.139457 -0.155102    ...     0.048913   \n",
       "image2.jpg  -0.029991 -0.057583  0.140435 -0.143214    ...     0.081886   \n",
       "image4.jpg  -0.026556 -0.203503  0.097148 -0.035472    ...     0.081202   \n",
       "image6.jpg  -0.038736 -0.041771  0.222424 -0.035011    ...     0.065053   \n",
       "image8.jpg  -0.058841 -0.124685  0.174449 -0.191225    ...     0.074093   \n",
       "image9.jpg  -0.070415 -0.158112  0.190154 -0.205832    ...     0.021665   \n",
       "\n",
       "                  119       120       121       122       123       124  \\\n",
       "image1.jpg   0.052697 -0.012722  0.032753 -0.118705 -0.111123  0.030561   \n",
       "image10.jpg  0.044040  0.067779 -0.062480 -0.095175 -0.077019  0.047777   \n",
       "image2.jpg  -0.026868  0.062151 -0.064383 -0.144577 -0.184796  0.064035   \n",
       "image4.jpg   0.079869  0.000999  0.040762 -0.129067 -0.083390  0.043762   \n",
       "image6.jpg   0.047178  0.099247  0.113197 -0.149545 -0.132866 -0.005378   \n",
       "image8.jpg   0.030151  0.085750 -0.088163 -0.116954 -0.124739  0.039270   \n",
       "image9.jpg   0.075233  0.098040 -0.111953 -0.100308 -0.063221  0.038036   \n",
       "\n",
       "                  125       126       127  \n",
       "image1.jpg  -0.088339  0.201529  0.040185  \n",
       "image10.jpg -0.089953  0.064140  0.026908  \n",
       "image2.jpg  -0.082566  0.167055  0.036307  \n",
       "image4.jpg  -0.099999  0.168648  0.028903  \n",
       "image6.jpg  -0.004147  0.121249  0.068118  \n",
       "image8.jpg  -0.035256  0.086318  0.072636  \n",
       "image9.jpg  -0.031638 -0.000626  0.076412  \n",
       "\n",
       "[7 rows x 128 columns]"
      ]
     },
     "execution_count": 5,
     "metadata": {},
     "output_type": "execute_result"
    }
   ],
   "source": [
    "df = pd.DataFrame.from_dict(images_to_keypoints)\n",
    "df = df.transpose()\n",
    "df.head()"
   ]
  },
  {
   "cell_type": "code",
   "execution_count": 20,
   "metadata": {},
   "outputs": [],
   "source": [
    "df.to_csv(\"dataframe.csv\", index=False)"
   ]
  },
  {
   "cell_type": "markdown",
   "metadata": {},
   "source": [
    "# Model Building"
   ]
  },
  {
   "cell_type": "code",
   "execution_count": 7,
   "metadata": {},
   "outputs": [],
   "source": [
    "from sklearn.cluster import DBSCAN\n",
    "from sklearn.neighbors import KNeighborsClassifier\n",
    "from sklearn.preprocessing import LabelEncoder\n",
    "from sklearn.model_selection import LeaveOneOut"
   ]
  },
  {
   "cell_type": "code",
   "execution_count": 7,
   "metadata": {},
   "outputs": [
    {
     "data": {
      "text/plain": [
       "array([-1, -1, -1, -1], dtype=int64)"
      ]
     },
     "execution_count": 7,
     "metadata": {},
     "output_type": "execute_result"
    }
   ],
   "source": [
    "dbscan = DBSCAN()\n",
    "dbscan.fit_predict(df)"
   ]
  },
  {
   "cell_type": "code",
   "execution_count": 8,
   "metadata": {
    "scrolled": true
   },
   "outputs": [
    {
     "data": {
      "text/html": [
       "<div>\n",
       "<style scoped>\n",
       "    .dataframe tbody tr th:only-of-type {\n",
       "        vertical-align: middle;\n",
       "    }\n",
       "\n",
       "    .dataframe tbody tr th {\n",
       "        vertical-align: top;\n",
       "    }\n",
       "\n",
       "    .dataframe thead th {\n",
       "        text-align: right;\n",
       "    }\n",
       "</style>\n",
       "<table border=\"1\" class=\"dataframe\">\n",
       "  <thead>\n",
       "    <tr style=\"text-align: right;\">\n",
       "      <th></th>\n",
       "      <th>0</th>\n",
       "      <th>1</th>\n",
       "      <th>2</th>\n",
       "      <th>3</th>\n",
       "      <th>4</th>\n",
       "      <th>5</th>\n",
       "      <th>6</th>\n",
       "      <th>7</th>\n",
       "      <th>8</th>\n",
       "      <th>9</th>\n",
       "      <th>...</th>\n",
       "      <th>118</th>\n",
       "      <th>119</th>\n",
       "      <th>120</th>\n",
       "      <th>121</th>\n",
       "      <th>122</th>\n",
       "      <th>123</th>\n",
       "      <th>124</th>\n",
       "      <th>125</th>\n",
       "      <th>126</th>\n",
       "      <th>127</th>\n",
       "    </tr>\n",
       "  </thead>\n",
       "  <tbody>\n",
       "    <tr>\n",
       "      <th>image1.jpg</th>\n",
       "      <td>-0.127379</td>\n",
       "      <td>0.046377</td>\n",
       "      <td>0.064907</td>\n",
       "      <td>0.036853</td>\n",
       "      <td>-0.030122</td>\n",
       "      <td>-0.035136</td>\n",
       "      <td>-0.024705</td>\n",
       "      <td>-0.204374</td>\n",
       "      <td>0.089141</td>\n",
       "      <td>-0.080783</td>\n",
       "      <td>...</td>\n",
       "      <td>0.113160</td>\n",
       "      <td>0.052697</td>\n",
       "      <td>-0.012722</td>\n",
       "      <td>0.032753</td>\n",
       "      <td>-0.118705</td>\n",
       "      <td>-0.111123</td>\n",
       "      <td>0.030561</td>\n",
       "      <td>-0.088339</td>\n",
       "      <td>0.201529</td>\n",
       "      <td>0.040185</td>\n",
       "    </tr>\n",
       "    <tr>\n",
       "      <th>image10.jpg</th>\n",
       "      <td>-0.163997</td>\n",
       "      <td>0.032625</td>\n",
       "      <td>0.132290</td>\n",
       "      <td>-0.138209</td>\n",
       "      <td>-0.069839</td>\n",
       "      <td>-0.088106</td>\n",
       "      <td>-0.052248</td>\n",
       "      <td>-0.176265</td>\n",
       "      <td>0.139457</td>\n",
       "      <td>-0.155102</td>\n",
       "      <td>...</td>\n",
       "      <td>0.048913</td>\n",
       "      <td>0.044040</td>\n",
       "      <td>0.067779</td>\n",
       "      <td>-0.062480</td>\n",
       "      <td>-0.095175</td>\n",
       "      <td>-0.077019</td>\n",
       "      <td>0.047777</td>\n",
       "      <td>-0.089953</td>\n",
       "      <td>0.064140</td>\n",
       "      <td>0.026908</td>\n",
       "    </tr>\n",
       "    <tr>\n",
       "      <th>image2.jpg</th>\n",
       "      <td>-0.185909</td>\n",
       "      <td>0.067868</td>\n",
       "      <td>0.039309</td>\n",
       "      <td>-0.082200</td>\n",
       "      <td>-0.086981</td>\n",
       "      <td>0.039979</td>\n",
       "      <td>-0.029991</td>\n",
       "      <td>-0.057583</td>\n",
       "      <td>0.140435</td>\n",
       "      <td>-0.143214</td>\n",
       "      <td>...</td>\n",
       "      <td>0.081886</td>\n",
       "      <td>-0.026868</td>\n",
       "      <td>0.062151</td>\n",
       "      <td>-0.064383</td>\n",
       "      <td>-0.144577</td>\n",
       "      <td>-0.184796</td>\n",
       "      <td>0.064035</td>\n",
       "      <td>-0.082566</td>\n",
       "      <td>0.167055</td>\n",
       "      <td>0.036307</td>\n",
       "    </tr>\n",
       "    <tr>\n",
       "      <th>image4.jpg</th>\n",
       "      <td>-0.155426</td>\n",
       "      <td>0.047399</td>\n",
       "      <td>0.005643</td>\n",
       "      <td>0.037812</td>\n",
       "      <td>-0.044404</td>\n",
       "      <td>-0.068241</td>\n",
       "      <td>-0.026556</td>\n",
       "      <td>-0.203503</td>\n",
       "      <td>0.097148</td>\n",
       "      <td>-0.035472</td>\n",
       "      <td>...</td>\n",
       "      <td>0.081202</td>\n",
       "      <td>0.079869</td>\n",
       "      <td>0.000999</td>\n",
       "      <td>0.040762</td>\n",
       "      <td>-0.129067</td>\n",
       "      <td>-0.083390</td>\n",
       "      <td>0.043762</td>\n",
       "      <td>-0.099999</td>\n",
       "      <td>0.168648</td>\n",
       "      <td>0.028903</td>\n",
       "    </tr>\n",
       "    <tr>\n",
       "      <th>image6.jpg</th>\n",
       "      <td>-0.005563</td>\n",
       "      <td>0.016488</td>\n",
       "      <td>0.036630</td>\n",
       "      <td>-0.125987</td>\n",
       "      <td>-0.078083</td>\n",
       "      <td>0.022831</td>\n",
       "      <td>-0.038736</td>\n",
       "      <td>-0.041771</td>\n",
       "      <td>0.222424</td>\n",
       "      <td>-0.035011</td>\n",
       "      <td>...</td>\n",
       "      <td>0.065053</td>\n",
       "      <td>0.047178</td>\n",
       "      <td>0.099247</td>\n",
       "      <td>0.113197</td>\n",
       "      <td>-0.149545</td>\n",
       "      <td>-0.132866</td>\n",
       "      <td>-0.005378</td>\n",
       "      <td>-0.004147</td>\n",
       "      <td>0.121249</td>\n",
       "      <td>0.068118</td>\n",
       "    </tr>\n",
       "  </tbody>\n",
       "</table>\n",
       "<p>5 rows × 128 columns</p>\n",
       "</div>"
      ],
      "text/plain": [
       "                  0         1         2         3         4         5    \\\n",
       "image1.jpg  -0.127379  0.046377  0.064907  0.036853 -0.030122 -0.035136   \n",
       "image10.jpg -0.163997  0.032625  0.132290 -0.138209 -0.069839 -0.088106   \n",
       "image2.jpg  -0.185909  0.067868  0.039309 -0.082200 -0.086981  0.039979   \n",
       "image4.jpg  -0.155426  0.047399  0.005643  0.037812 -0.044404 -0.068241   \n",
       "image6.jpg  -0.005563  0.016488  0.036630 -0.125987 -0.078083  0.022831   \n",
       "\n",
       "                  6         7         8         9      ...          118  \\\n",
       "image1.jpg  -0.024705 -0.204374  0.089141 -0.080783    ...     0.113160   \n",
       "image10.jpg -0.052248 -0.176265  0.139457 -0.155102    ...     0.048913   \n",
       "image2.jpg  -0.029991 -0.057583  0.140435 -0.143214    ...     0.081886   \n",
       "image4.jpg  -0.026556 -0.203503  0.097148 -0.035472    ...     0.081202   \n",
       "image6.jpg  -0.038736 -0.041771  0.222424 -0.035011    ...     0.065053   \n",
       "\n",
       "                  119       120       121       122       123       124  \\\n",
       "image1.jpg   0.052697 -0.012722  0.032753 -0.118705 -0.111123  0.030561   \n",
       "image10.jpg  0.044040  0.067779 -0.062480 -0.095175 -0.077019  0.047777   \n",
       "image2.jpg  -0.026868  0.062151 -0.064383 -0.144577 -0.184796  0.064035   \n",
       "image4.jpg   0.079869  0.000999  0.040762 -0.129067 -0.083390  0.043762   \n",
       "image6.jpg   0.047178  0.099247  0.113197 -0.149545 -0.132866 -0.005378   \n",
       "\n",
       "                  125       126       127  \n",
       "image1.jpg  -0.088339  0.201529  0.040185  \n",
       "image10.jpg -0.089953  0.064140  0.026908  \n",
       "image2.jpg  -0.082566  0.167055  0.036307  \n",
       "image4.jpg  -0.099999  0.168648  0.028903  \n",
       "image6.jpg  -0.004147  0.121249  0.068118  \n",
       "\n",
       "[5 rows x 128 columns]"
      ]
     },
     "execution_count": 8,
     "metadata": {},
     "output_type": "execute_result"
    }
   ],
   "source": [
    "df.head()"
   ]
  },
  {
   "cell_type": "code",
   "execution_count": 9,
   "metadata": {
    "scrolled": true
   },
   "outputs": [
    {
     "name": "stdout",
     "output_type": "stream",
     "text": [
      "Train: [0] Test: [1 2 3 4 5 6]\n",
      "Train: [1] Test: [0 2 3 4 5 6]\n",
      "Train: [2] Test: [0 1 3 4 5 6]\n",
      "Train: [3] Test: [0 1 2 4 5 6]\n",
      "Train: [4] Test: [0 1 2 3 5 6]\n",
      "Train: [5] Test: [0 1 2 3 4 6]\n",
      "Train: [6] Test: [0 1 2 3 4 5]\n"
     ]
    }
   ],
   "source": [
    "\"\"\"\n",
    "Getting indices to train and predict on, using sklearn.model_selection.LeaveOneOut.split()\n",
    "LeaveOnOut.split() returns one index for testing and remaining for training\n",
    "it returns in the order of train indices followed by the single test index\n",
    "in our case, we require the opposite, and hence we consider it as predict indices followed by the train index\n",
    "\"\"\"\n",
    "kf_loo = LeaveOneOut()\n",
    "\n",
    "for predict_indices, train_index in kf_loo.split(df):\n",
    "    print(\"Train:\", train_index, \"Test:\", predict_indices)"
   ]
  },
  {
   "cell_type": "code",
   "execution_count": 17,
   "metadata": {},
   "outputs": [
    {
     "name": "stdout",
     "output_type": "stream",
     "text": [
      "\n",
      "KNN Image = image1.jpg\n",
      "Prediction Image = image4.jpg, Distance(s) = 0.34498298264682986\n",
      "\n",
      "KNN Image = image10.jpg\n",
      "Prediction Image = image8.jpg, Distance(s) = 0.43045664631529373\n",
      "Prediction Image = image9.jpg, Distance(s) = 0.3712868361696558\n"
     ]
    }
   ],
   "source": [
    "\"\"\"\n",
    "Optimised version of KNN training\n",
    "\"\"\"\n",
    "\n",
    "knn = KNeighborsClassifier(n_neighbors=1, algorithm='ball_tree', weights='distance')\n",
    "le = LabelEncoder()\n",
    "\n",
    "# dict to store the grouped clusters, classNum is the cluster number\n",
    "# groupedClasses will store the groups in the format:\n",
    "# { 0:[image_name_1, image_name_2, image_name_3], 1:[image_name_4], 2:[image_name_5, image_name_6], ... }\n",
    "# where 0, 1, 2, etc are the different class numbers\n",
    "groupedClasses = dict()\n",
    "classNum = 0\n",
    "\n",
    "# a set to store names of already predicted and matched images, so that we don't have to train on it again\n",
    "matchedImages = set()\n",
    "\n",
    "new_labels = np.ones(len(df), dtype=int) * -1\n",
    "\n",
    "# loop over the data to train and predict\n",
    "for predict_indices, train_index in kf_loo.split(df):\n",
    "    train_index = train_index[0]\n",
    "    \n",
    "    label = df.iloc[train_index].name\n",
    "    \n",
    "    # if the label (image) was already predicted and matched before continue without training\n",
    "    if label in matchedImages:\n",
    "        continue\n",
    "        \n",
    "    label_encoded = le.fit_transform([label])\n",
    "    \n",
    "    # fit the KNN model on the single image\n",
    "    points = df.iloc[train_index]\n",
    "    knn.fit([points], label_encoded)\n",
    "    \n",
    "    # predict using the trained model on remaining indices to get the distances of each point to the trained image\n",
    "    prediction = knn.kneighbors(df.iloc[predict_indices])    \n",
    "    distances = prediction[0].flatten()\n",
    "    \n",
    "    # create a boolean array to filter out distances <= 0.5\n",
    "    distanceFilter = distances <= 0.5\n",
    "    \n",
    "    # filter out the images and distances using the distance filter\n",
    "    prediction_labels = np.array(df.iloc[predict_indices].index)\n",
    "    similarLabels = prediction_labels[distanceFilter]\n",
    "    similarDistances = distances[distanceFilter]\n",
    "\n",
    "    # group the trained label and predicted similar labels into one class\n",
    "    groupedClasses[classNum] = np.array([label])\n",
    "    new_labels[train_index] = classNum\n",
    "    \n",
    "    if len(similarLabels) > 0:        \n",
    "        groupedClasses[classNum] = np.append(groupedClasses[classNum],similarLabels)\n",
    "        new_labels[predict_indices] = classNum\n",
    "        \n",
    "        print(f\"\\nKNN Image = {label}\")\n",
    "        matchedImages.add(label)\n",
    "    classNum += 1\n",
    "        \n",
    "    for i in range(len(similarLabels)):\n",
    "        print(f\"Prediction Image = {similarLabels[i]}, Distance(s) = {similarDistances[i]}\")\n",
    "        # Keep track of predicted similar images so as to not train on them again\n",
    "        matchedImages.add(similarLabels[i])"
   ]
  },
  {
   "cell_type": "code",
   "execution_count": 19,
   "metadata": {},
   "outputs": [
    {
     "name": "stdout",
     "output_type": "stream",
     "text": [
      "Grouped Classes:\n",
      "0 : ['image1.jpg' 'image4.jpg']\n",
      "1 : ['image10.jpg' 'image8.jpg' 'image9.jpg']\n",
      "2 : ['image2.jpg']\n",
      "3 : ['image6.jpg']\n",
      "\n",
      "Number of Classes: 4\n"
     ]
    }
   ],
   "source": [
    "print(\"Grouped Classes:\")\n",
    "for grp in groupedClasses:\n",
    "    print(grp,\":\",groupedClasses[grp])\n",
    "print()\n",
    "\n",
    "print(\"Number of Classes:\", classNum)"
   ]
  },
  {
   "cell_type": "code",
   "execution_count": 44,
   "metadata": {},
   "outputs": [
    {
     "data": {
      "text/plain": [
       "KNeighborsClassifier(algorithm='ball_tree', leaf_size=30, metric='minkowski',\n",
       "           metric_params=None, n_jobs=None, n_neighbors=2, p=2,\n",
       "           weights='distance')"
      ]
     },
     "execution_count": 44,
     "metadata": {},
     "output_type": "execute_result"
    }
   ],
   "source": [
    "# Training KNN on the full data with increased number of neighbours\n",
    "knn_full = KNeighborsClassifier(n_neighbors=classNum, algorithm='ball_tree', weights='distance')\n",
    "knn_full.fit(df, new_labels)"
   ]
  },
  {
   "cell_type": "code",
   "execution_count": 12,
   "metadata": {},
   "outputs": [
    {
     "name": "stdout",
     "output_type": "stream",
     "text": [
      "KNN Image = image1.jpg, Prediction Image = image4.jpg, Distance = 0.34498298264682986\n",
      "KNN Image = image4.jpg, Prediction Image = image1.jpg, Distance = 0.34498298264682986\n"
     ]
    }
   ],
   "source": [
    "\"\"\"\n",
    "Less optimised training of KNN model\n",
    "\"\"\"\n",
    "\n",
    "knn = KNeighborsClassifier(n_neighbors=1, algorithm='ball_tree', weights='distance')\n",
    "le = LabelEncoder()\n",
    "\n",
    "matched_pairs = {}\n",
    "used = []\n",
    "\n",
    "for row in df.iterrows():\n",
    "    label = row[0]\n",
    "    label_encoded = le.fit_transform([label])\n",
    "    points = row[1]\n",
    "    knn.fit([points], label_encoded)\n",
    "    \n",
    "    i = 1\n",
    "    for row_ in df.iterrows():\n",
    "        label_ = row_[0]\n",
    "        label_encoded_ = le.fit_transform([label_])\n",
    "        points_ = row_[1]\n",
    "        \n",
    "        if label_ != label:\n",
    "            distance = knn.kneighbors([points_])[0][0][0]\n",
    "            if distance <= 0.5:\n",
    "                if label not in matched_pairs:\n",
    "                    matched_pairs[label] = label_\n",
    "                    print(f\"KNN Image = {label}, Prediction Image = {label_}, Distance = {distance}\")"
   ]
  },
  {
   "cell_type": "code",
   "execution_count": 39,
   "metadata": {},
   "outputs": [
    {
     "data": {
      "text/plain": [
       "{'image4.jpg': 'image1.jpg', 'image1.jpg': 'image4.jpg'}"
      ]
     },
     "execution_count": 39,
     "metadata": {},
     "output_type": "execute_result"
    }
   ],
   "source": [
    "matched_pairs"
   ]
  },
  {
   "cell_type": "code",
   "execution_count": 14,
   "metadata": {},
   "outputs": [],
   "source": [
    "import matplotlib.pyplot as plt\n",
    "%matplotlib inline"
   ]
  },
  {
   "cell_type": "code",
   "execution_count": 15,
   "metadata": {},
   "outputs": [
    {
     "data": {
      "text/plain": [
       "<matplotlib.image.AxesImage at 0x213ecaa7978>"
      ]
     },
     "execution_count": 15,
     "metadata": {},
     "output_type": "execute_result"
    },
    {
     "data": {
      "image/png": "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\n",
      "text/plain": [
       "<Figure size 432x288 with 1 Axes>"
      ]
     },
     "metadata": {
      "needs_background": "light"
     },
     "output_type": "display_data"
    }
   ],
   "source": [
    "img = plt.imread(\"images/image1.jpg\")\n",
    "plt.imshow(img)"
   ]
  },
  {
   "cell_type": "code",
   "execution_count": 14,
   "metadata": {},
   "outputs": [
    {
     "ename": "NameError",
     "evalue": "name 'matched_pairs' is not defined",
     "output_type": "error",
     "traceback": [
      "\u001b[1;31m---------------------------------------------------------------------------\u001b[0m",
      "\u001b[1;31mNameError\u001b[0m                                 Traceback (most recent call last)",
      "\u001b[1;32m<ipython-input-14-21e64b9e806e>\u001b[0m in \u001b[0;36m<module>\u001b[1;34m\u001b[0m\n\u001b[0;32m      3\u001b[0m \u001b[1;33m\u001b[0m\u001b[0m\n\u001b[0;32m      4\u001b[0m \u001b[1;32mfor\u001b[0m \u001b[0mi\u001b[0m\u001b[1;33m,\u001b[0m \u001b[0mimage\u001b[0m \u001b[1;32min\u001b[0m \u001b[0menumerate\u001b[0m\u001b[1;33m(\u001b[0m\u001b[0mos\u001b[0m\u001b[1;33m.\u001b[0m\u001b[0mlistdir\u001b[0m\u001b[1;33m(\u001b[0m\u001b[1;34m\"images\"\u001b[0m\u001b[1;33m)\u001b[0m\u001b[1;33m)\u001b[0m\u001b[1;33m:\u001b[0m\u001b[1;33m\u001b[0m\u001b[1;33m\u001b[0m\u001b[0m\n\u001b[1;32m----> 5\u001b[1;33m     \u001b[1;32mif\u001b[0m \u001b[0mimage\u001b[0m \u001b[1;32min\u001b[0m \u001b[0mmatched_pairs\u001b[0m\u001b[1;33m:\u001b[0m\u001b[1;33m\u001b[0m\u001b[1;33m\u001b[0m\u001b[0m\n\u001b[0m\u001b[0;32m      6\u001b[0m         \u001b[0mimage\u001b[0m \u001b[1;33m=\u001b[0m \u001b[0mplt\u001b[0m\u001b[1;33m.\u001b[0m\u001b[0mimread\u001b[0m\u001b[1;33m(\u001b[0m\u001b[0mos\u001b[0m\u001b[1;33m.\u001b[0m\u001b[0mpath\u001b[0m\u001b[1;33m.\u001b[0m\u001b[0mjoin\u001b[0m\u001b[1;33m(\u001b[0m\u001b[1;34m\"images\"\u001b[0m\u001b[1;33m,\u001b[0m \u001b[0mimage\u001b[0m\u001b[1;33m)\u001b[0m\u001b[1;33m)\u001b[0m\u001b[1;33m\u001b[0m\u001b[1;33m\u001b[0m\u001b[0m\n\u001b[0;32m      7\u001b[0m         \u001b[1;31m#sub = fig.add_subplot(1, 7, i + 1)\u001b[0m\u001b[1;33m\u001b[0m\u001b[1;33m\u001b[0m\u001b[1;33m\u001b[0m\u001b[0m\n",
      "\u001b[1;31mNameError\u001b[0m: name 'matched_pairs' is not defined"
     ]
    },
    {
     "data": {
      "text/plain": [
       "<Figure size 3600x3600 with 0 Axes>"
      ]
     },
     "metadata": {},
     "output_type": "display_data"
    }
   ],
   "source": [
    "import os\n",
    "fig = plt.figure(figsize=(50, 50))  # width, height in inches\n",
    "\n",
    "for i, image in enumerate(os.listdir(\"images\")):\n",
    "    if image in matched_pairs:\n",
    "        image = plt.imread(os.path.join(\"images\", image))\n",
    "        sub = fig.add_subplot(1, 7, i + 1)\n",
    "    else:\n",
    "        print(image)"
   ]
  },
  {
   "cell_type": "code",
   "execution_count": 15,
   "metadata": {},
   "outputs": [
    {
     "ename": "SyntaxError",
     "evalue": "invalid syntax (<ipython-input-15-7ffa9c5a1c2e>, line 7)",
     "output_type": "error",
     "traceback": [
      "\u001b[1;36m  File \u001b[1;32m\"<ipython-input-15-7ffa9c5a1c2e>\"\u001b[1;36m, line \u001b[1;32m7\u001b[0m\n\u001b[1;33m    matched_image = matched_pairs.get(image, None):\u001b[0m\n\u001b[1;37m                                                  ^\u001b[0m\n\u001b[1;31mSyntaxError\u001b[0m\u001b[1;31m:\u001b[0m invalid syntax\n"
     ]
    }
   ],
   "source": [
    "fig, ax = plt.subplots(nrows=len(df), ncols=2)\n",
    "\n",
    "for i, image in enumerate(images_to_keypoints):\n",
    "    col = i % 2\n",
    "    row = i // 2\n",
    "\n",
    "    matched_image = matched_pairs.get(image, None):\n",
    "        if matched_image is not None:\n",
    "            img1 = \n",
    "    \n",
    "    if image in matched_pairs:\n",
    "        image = plt.imread(os.path.join(\"images\", image))\n",
    "         #These are subplot grid parameters encoded as a single integer. For example, \"111\" means \"1x1 grid, first subplot\" and \"234\" means \"2x3 grid, 4th subplot\".\n",
    "        #sub.imshow(image)\n",
    "        #fig.add_subplot(ROW,COLUMN,POSITION)\n",
    "        fig = plt.figure()\n",
    "        fig.add_subplot(221)   #top left\n",
    "        fig.add_subplot(222)   #top right\n",
    "        fig.add_subplot(223)   #bottom left\n",
    "        fig.add_subplot(224)   #bottom right \n",
    "        plt.show()"
   ]
  },
  {
   "cell_type": "code",
   "execution_count": 48,
   "metadata": {},
   "outputs": [
    {
     "data": {
      "text/plain": [
       "dict_keys(['image2.jpg', 'image4.jpg', 'image6.jpg', 'image1.jpg'])"
      ]
     },
     "execution_count": 48,
     "metadata": {},
     "output_type": "execute_result"
    }
   ],
   "source": [
    "images_to_keypoints.keys()"
   ]
  },
  {
   "cell_type": "code",
   "execution_count": 49,
   "metadata": {},
   "outputs": [
    {
     "data": {
      "text/plain": [
       "{'image4.jpg': 'image1.jpg', 'image1.jpg': 'image4.jpg'}"
      ]
     },
     "execution_count": 49,
     "metadata": {},
     "output_type": "execute_result"
    }
   ],
   "source": [
    "matched_pairs"
   ]
  },
  {
   "cell_type": "code",
   "execution_count": 52,
   "metadata": {},
   "outputs": [
    {
     "ename": "KeyError",
     "evalue": "'image2.jpg'",
     "output_type": "error",
     "traceback": [
      "\u001b[0;31m-------------------------------------------------------------------\u001b[0m",
      "\u001b[0;31mKeyError\u001b[0m                          Traceback (most recent call last)",
      "\u001b[0;32m<ipython-input-52-5b1ea55e6d1f>\u001b[0m in \u001b[0;36m<module>\u001b[0;34m\u001b[0m\n\u001b[0;32m----> 1\u001b[0;31m \u001b[0mprint\u001b[0m\u001b[0;34m(\u001b[0m\u001b[0mmatched_pairs\u001b[0m\u001b[0;34m[\u001b[0m\u001b[0;34m'image2.jpg'\u001b[0m\u001b[0;34m]\u001b[0m\u001b[0;34m)\u001b[0m\u001b[0;34m\u001b[0m\u001b[0;34m\u001b[0m\u001b[0m\n\u001b[0m",
      "\u001b[0;31mKeyError\u001b[0m: 'image2.jpg'"
     ]
    }
   ],
   "source": [
    "print(matched_pairs['image2.jpg'])"
   ]
  },
  {
   "cell_type": "code",
   "execution_count": 54,
   "metadata": {},
   "outputs": [],
   "source": [
    "lst = ['image2.jpg', 'image4.jpg', 'image6.jpg', 'image1.jpg']"
   ]
  },
  {
   "cell_type": "code",
   "execution_count": 55,
   "metadata": {},
   "outputs": [],
   "source": [
    "lst.remove(\"image4.jpg\")"
   ]
  },
  {
   "cell_type": "code",
   "execution_count": 56,
   "metadata": {},
   "outputs": [
    {
     "data": {
      "text/plain": [
       "['image2.jpg', 'image6.jpg', 'image1.jpg']"
      ]
     },
     "execution_count": 56,
     "metadata": {},
     "output_type": "execute_result"
    }
   ],
   "source": [
    "lst"
   ]
  },
  {
   "cell_type": "code",
   "execution_count": null,
   "metadata": {},
   "outputs": [],
   "source": []
  }
 ],
 "metadata": {
  "kernelspec": {
   "display_name": "Python 3",
   "language": "python",
   "name": "python3"
  },
  "language_info": {
   "codemirror_mode": {
    "name": "ipython",
    "version": 3
   },
   "file_extension": ".py",
   "mimetype": "text/x-python",
   "name": "python",
   "nbconvert_exporter": "python",
   "pygments_lexer": "ipython3",
<<<<<<< HEAD
   "version": "3.7.0"
=======
   "version": "3.8.3"
>>>>>>> visualization
  }
 },
 "nbformat": 4,
 "nbformat_minor": 4
}
